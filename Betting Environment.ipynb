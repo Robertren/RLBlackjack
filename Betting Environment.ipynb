{
 "cells": [
  {
   "cell_type": "markdown",
   "metadata": {},
   "source": [
    "# Betting Environment\n",
    "Some basic parameters\n",
    "- Observation Space (State Space): $\\mathbb{R}^2$, one dimension is **Current total money**, the other dimension is **Last reward**. Or we can start with only the first dimension only?\n",
    "- Action Space: 10 dimension, each dimension correspond to 1 unit bet to 10 times unit bets.\n",
    "- Step function:\n",
    "\n",
    "    1. Take bet\n",
    "    2. Let BlackJack Agent run until done, get either win or lose.\n",
    "    3. Calculate Reward based on win/lose and betting amount. "
   ]
  },
  {
   "cell_type": "code",
   "execution_count": 438,
   "metadata": {},
   "outputs": [],
   "source": [
    "import numpy as np\n",
    "import random\n",
    "import torch.optim\n",
    "import torch\n",
    "import torch.nn as nn\n",
    "from collections import namedtuple\n",
    "import math\n",
    "from torch.autograd import Variable\n",
    "from torch import FloatTensor\n",
    "import torch.nn.functional as F\n",
    "import gym\n",
    "from gym import spaces\n",
    "from gym.utils import seeding\n",
    "\n",
    "# Betting Environment\n",
    "class BlackjackBetEnv(object):\n",
    "    def __init__(\n",
    "        self , \n",
    "        blackjack_agent_class, \n",
    "        pretrained_agent_path=None,\n",
    "        cotrain_blackjack_agent=True,\n",
    "        obs_limit=128, \n",
    "        init_money=0\n",
    "                ):\n",
    "        self.blackjack_agent_class = blackjack_agent_class\n",
    "        self.init_money = init_money\n",
    "        # Setup environment for playing each round of blackjack\n",
    "        self.env_blackjack = gym.make('Blackjack-v0')\n",
    "        self.env_blackjack.reset()\n",
    "        self.agent_blackjack = blackjack_agent_class(n_inputs=16, n_outputs=2, gamma=0.75)\n",
    "        self.cotrain_blackjack_agent=cotrain_blackjack_agent\n",
    "        if pretrained_agent_path is not None:\n",
    "            self.agent_blackjack.load_state_dict(torch.load(pretrained_agent_path))\n",
    "        # Observation and State spaces\n",
    "        high = np.array([obs_limit])\n",
    "        self.observation_space = spaces.Box(-high, high)\n",
    "        self.action_space = spaces.Discrete(10)\n",
    "        self.money_remain = init_money\n",
    "        # Reset random seed\n",
    "        self.seed()\n",
    "        self.reset()\n",
    "\n",
    "    def _transfer_card_input(self, player, dealer):\n",
    "        # transfer the dealer and player card into a fixed dimension list\n",
    "        deal_card = [dealer[0]]\n",
    "        player_card = player + [0] * (15 - len(player))\n",
    "        return player_card + deal_card\n",
    "\n",
    "    def step(self, action):\n",
    "        round_finished = False\n",
    "        while not round_finished:\n",
    "            blackjack_state = self._transfer_card_input(self.env_blackjack.player, self.env_blackjack.dealer)\n",
    "            # Agent choose\n",
    "            blackjack_agent_action = self.agent_blackjack.choose(blackjack_state)\n",
    "            # Update observation\n",
    "            blackjack_obs, blackjack_reward, round_finished, _ = self.env_blackjack.step(blackjack_agent_action)\n",
    "            # Agent Remember and Learn\n",
    "            if self.cotrain_blackjack_agent:\n",
    "                blackjack_next_state = self._transfer_card_input(self.env_blackjack.player, self.env_blackjack.dealer)\n",
    "                self.agent_blackjack.remember(\n",
    "                    blackjack_state, \n",
    "                    blackjack_agent_action, \n",
    "                    blackjack_next_state,\n",
    "                    blackjack_reward\n",
    "                )\n",
    "                self.agent_blackjack.learn()\n",
    "            # Optional print statement for examination\n",
    "#             print('Player card:',self.env_blackjack.player)\n",
    "#             print('Dealer card:',self.env_blackjack.dealer)\n",
    "#             print('Agent Action:', blackjack_agent_action)\n",
    "#             print('round_finished:', round_finished)\n",
    "#             print('Blackjack_reward:', blackjack_reward)\n",
    "#             print()\n",
    "        bet_reward = blackjack_reward*(action+1)\n",
    "        self.env_blackjack.reset()\n",
    "        self.money_remain += bet_reward\n",
    "        done = self.observation_space.contains(np.array([self.money_remain])) == False\n",
    "        return [self.money_remain], bet_reward, done, {}\n",
    "    \n",
    "    def reset(self):\n",
    "        self.money_remain = self.init_money\n",
    "        self.env_blackjack.reset()\n",
    "        # return initial state\n",
    "        return [0.]\n",
    "    \n",
    "    def seed(self, seed=None):\n",
    "        self.np_random, seed = seeding.np_random(seed)\n",
    "        return [seed]\n",
    "    \n",
    "Transition = namedtuple('Transition', ('state', 'action', 'next_state', 'reward'))\n",
    "\n",
    "# Blackjack Playing Agent \n",
    "class ReplayMemory(object):\n",
    "    \n",
    "    def __init__(self, capacity):\n",
    "        self.capacity = capacity\n",
    "        self.memory = []\n",
    "        self.position = 0\n",
    "    \n",
    "    def push(self, *args):\n",
    "        \"\"\"Saves a transition\"\"\"\n",
    "        if len(self.memory) < self.capacity:\n",
    "            self.memory.append(None) # grow the memory\n",
    "        self.memory[self.position] = Transition(*args)\n",
    "        self.position = (self.position+1)%self.capacity # loop around\n",
    "    \n",
    "    def sample(self, batch_size):\n",
    "        return random.sample(self.memory, batch_size)\n",
    "    \n",
    "    def __len__(self):\n",
    "        return len(self.memory)\n",
    "    \n",
    "BATCH_SIZE = 128\n",
    "EPS_START = 0.9\n",
    "EPS_END = 0.05\n",
    "EPS_DECAY = 200\n",
    "steps_done = 0\n",
    "\n",
    "class NetworkAgent(nn.Module):\n",
    "    \n",
    "    def __init__(self, n_inputs, n_outputs, gamma):\n",
    "        self.H = 128 # the number of hidden units (you can change this or make it a parameter)\n",
    "        self.MEM_SIZE = 100 # could be made a parmaeter\n",
    "        self.BATCH_SIZE = 64\n",
    "        nn.Module.__init__(self)\n",
    "        self.num_inputs = n_inputs\n",
    "        self.num_actions = n_outputs\n",
    "        self.l1 = nn.Linear(self.num_inputs, self.H) # defines the input units and layer 1 weights\n",
    "        self.l2 = nn.Linear(self.H, 10) # defines the output units (actions) and layer 2 weights\n",
    "        self.l3 = nn.Linear(10, self.num_actions)\n",
    "        self.memory = ReplayMemory(self.MEM_SIZE) # create a replay memory \n",
    "        self.gamma = gamma\n",
    "        self.optimizer = torch.optim.RMSprop(self.parameters(), lr = 0.00015)\n",
    "    \n",
    "    # makes forward predictions from the current state, x, to the actions\n",
    "    def forward(self, x):\n",
    "        # the forward function is required by the neural network and takes an input\n",
    "        # vector (x) representing in this case the current state and makes a prediction\n",
    "        # about the activation of the output units in the network.\n",
    "        x = F.relu(self.l1(x)) # state -> hidden -> relu()\n",
    "        x = F.relu(self.l2(x)) # hidden -> hidden\n",
    "        x = F.softmax(self.l3(x))\n",
    "        return x \n",
    "    \n",
    "    # makes a choice about which action to perform (left=0, right=1)\n",
    "    def choose(self, state):\n",
    "        #### YOUR CODE HERE\n",
    "        \n",
    "        # you should implement a rule for making choices.\n",
    "        # you can use any of the algorithms discussed in class or that you used in the \n",
    "        # earlier part of the homework (softmax, ucb)\n",
    "        # however, you will want to based your actions somewhat on the network's\n",
    "        # predictions about what to do:\n",
    "        # \n",
    "        # to give you a hint the following set of lines\n",
    "        # show how to use the network to make a forward prediction:\n",
    "        #        state_vec = Variable(FloatTensor([state]), volatile=True).type(FloatTensor)\n",
    "        #        self(state_vec)\n",
    "        # specifcally, calling self(state_vec) run the self.forward() function defined above\n",
    "        \n",
    "        # right now the algorithm ignores the current state and network\n",
    "        # but will need to decide based on this later.\n",
    "        global steps_done\n",
    "        sample = random.random()\n",
    "        eps_threshold = EPS_END + (EPS_START - EPS_END) * \\\n",
    "                        math.exp(-1. * steps_done / EPS_DECAY)\n",
    "        steps_done += 1\n",
    "        if sample > eps_threshold:\n",
    "            state_vec = Variable(FloatTensor([state]), volatile=True).type(FloatTensor)\n",
    "            action = self(state_vec).max(1)[1].data.numpy()[0]\n",
    "            return action\n",
    "        else:\n",
    "            return random.randrange(2)\n",
    "        \n",
    "        \n",
    "    \n",
    "    # stores the last state, action pair in a format that is useful to the network\n",
    "    def remember(self, *args):\n",
    "        args = (FloatTensor([args[0]]),\n",
    "               args[1],\n",
    "               FloatTensor([args[2]]),\n",
    "               FloatTensor([args[3]]))\n",
    "        self.memory.push(*args)\n",
    "    \n",
    "    def learn(self):\n",
    "        if len(self.memory) < self.BATCH_SIZE:\n",
    "            return # don't do learning if you haven't accumulated enough experience yet (this could be improved)\n",
    "        # get a bunch of training data\n",
    "        transitions = self.memory.sample(self.BATCH_SIZE)\n",
    "        batch_state, batch_action, batch_next_state, batch_reward = zip(*transitions)\n",
    "    \n",
    "        # convert to variables (necessary for batch training)\n",
    "        batch_state = Variable(torch.cat(batch_state))\n",
    "        batch_action = Variable(torch.from_numpy(np.array(batch_action)).view(self.BATCH_SIZE, -1))\n",
    "        batch_next_state = Variable(torch.cat(batch_next_state), requires_grad=False)\n",
    "        batch_reward = Variable(torch.cat(batch_reward), requires_grad=False)\n",
    "        # steps to be implemented:\n",
    "        # 1. compute current Q values for all actions\n",
    "        state_action_values = self(batch_state).gather(1, batch_action)\n",
    "        \n",
    "        # 2. compute exected Q values estimated from action which given max Q values (on-policy)\n",
    "        next_state_values = self(batch_next_state).max(1)[0]\n",
    "        expected_state_action_values = (next_state_values * self.gamma) + batch_reward\n",
    "        # Rebuild Variable \n",
    "        expected_state_action_values = Variable(expected_state_action_values.data, requires_grad=False)\n",
    "\n",
    "        # 3. compute the loss/error function (one suggestion is F.smooth_l1_loss())\n",
    "#         print('state:')\n",
    "#         print(state_action_values.view(-1))\n",
    "#         print('expected:')\n",
    "#         print(expected_state_action_values)\n",
    "#         print(expected_state_action_values.requires_grad)\n",
    "#         expected_state_action_values.detach()\n",
    "#         print(expected_state_action_values.requires_grad)\n",
    "        loss = F.smooth_l1_loss(state_action_values.view(-1), expected_state_action_values)\n",
    "        \n",
    "        # 4. apply the error and backprop the gradients\n",
    "        self.optimizer.zero_grad()\n",
    "        loss.backward()\n",
    "        for param in self.parameters():\n",
    "            param.grad.data.clamp_(-1, 1)\n",
    "        self.optimizer.step()\n",
    "\n",
    "        \n",
    "        #### YOUR CODE HERE\n",
    "        # this is where you will implement the Q-learning update rules on the a batch of\n",
    "        # sampled examples from the replay memory\n",
    "        # a couple of resources:\n",
    "        #  - check out Homework 2, particularly the RNN code for how to train a network using pytorch\n",
    "        #  - check out the nn.Module docs on the pytorch website: http://pytorch.org/docs/master/nn.html\n",
    "        #  - check out this pytorch doc on implementing a DQN: http://pytorch.org/tutorials/intermediate/reinforcement_q_learning.html\n",
    "        # it is ok if you want to modify any of the starter code to use a different\n",
    "        # format.  However your solution MUST involve a multi-layer neural network as\n",
    "        # the function approximation representation for the DQN.\n",
    "        pass"
   ]
  },
  {
   "cell_type": "markdown",
   "metadata": {},
   "source": [
    "## Plotting Functions"
   ]
  },
  {
   "cell_type": "code",
   "execution_count": 439,
   "metadata": {},
   "outputs": [],
   "source": [
    "import pandas as pd\n",
    "import matplotlib.pyplot as plt\n",
    "%matplotlib inline\n",
    "def plot_history(history_list, rolling_window=30, ylabel='Remain Money', ax=None):\n",
    "    history_df = pd.Series(history_list)\n",
    "    rolling_mean = history_df.rolling(window=rolling_window, center=False).mean()\n",
    "    if ax is None:\n",
    "        fig = plt.figure()\n",
    "        ax = fig.add_subplot(111)\n",
    "    ax.plot(\n",
    "        rolling_mean\n",
    "    )\n",
    "    ax.set_ylabel(ylabel)\n",
    "    ax.set_xlabel('n_rounds')\n",
    "    return ax"
   ]
  },
  {
   "cell_type": "markdown",
   "metadata": {},
   "source": [
    "# Environment Test"
   ]
  },
  {
   "cell_type": "code",
   "execution_count": 440,
   "metadata": {},
   "outputs": [
    {
     "name": "stdout",
     "output_type": "stream",
     "text": [
      "\u001b[33mWARN: gym.spaces.Box autodetected dtype as <class 'numpy.float32'>. Please provide explicit dtype.\u001b[0m\n"
     ]
    },
    {
     "name": "stderr",
     "output_type": "stream",
     "text": [
      "/Users/zhuorulin/anaconda3/envs/py36/lib/python3.6/site-packages/ipykernel_launcher.py:168: UserWarning: volatile was removed and now has no effect. Use `with torch.no_grad():` instead.\n",
      "/Users/zhuorulin/anaconda3/envs/py36/lib/python3.6/site-packages/ipykernel_launcher.py:142: UserWarning: Implicit dimension choice for softmax has been deprecated. Change the call to include dim=X as an argument.\n"
     ]
    }
   ],
   "source": [
    "test_env = BlackjackBetEnv(\n",
    "    blackjack_agent_class=NetworkAgent,\n",
    "    pretrained_agent_path=None,\n",
    "    cotrain_blackjack_agent=True,\n",
    "    obs_limit=1024, \n",
    "    init_money=0\n",
    ")\n",
    "\n",
    "remain_money_hist = []\n",
    "from tqdm import tqdm\n",
    "for i in range(1000):\n",
    "    remain_money, _, _, _ = test_env.step(0)\n",
    "    remain_money_hist.append(remain_money[0])"
   ]
  },
  {
   "cell_type": "code",
   "execution_count": 441,
   "metadata": {},
   "outputs": [
    {
     "data": {
      "text/plain": [
       "<matplotlib.axes._subplots.AxesSubplot at 0x1a1d42aa20>"
      ]
     },
     "execution_count": 441,
     "metadata": {},
     "output_type": "execute_result"
    },
    {
     "data": {
      "image/png": "[encoded data removed]",
      "text/plain": [
       "<matplotlib.figure.Figure at 0x1a1d4514a8>"
      ]
     },
     "metadata": {},
     "output_type": "display_data"
    }
   ],
   "source": [
    "plot_history(remain_money_hist, rolling_window=1)"
   ]
  },
  {
   "cell_type": "markdown",
   "metadata": {},
   "source": [
    "# Bet Agents"
   ]
  },
  {
   "cell_type": "markdown",
   "metadata": {},
   "source": [
    "## Rule-based agents"
   ]
  },
  {
   "cell_type": "markdown",
   "metadata": {},
   "source": [
    "## Deep Q Agent"
   ]
  },
  {
   "cell_type": "code",
   "execution_count": 442,
   "metadata": {},
   "outputs": [],
   "source": [
    "# We need basically same agent for playing black jack. \n",
    "# Except a different learning and remenber method\n",
    "\n",
    "def run_episode(env, agent):\n",
    "    \n",
    "    # Run the environment\n",
    "    state = env.reset()  \n",
    "    duration = 0\n",
    "    done = False\n",
    "    while not done:\n",
    "        duration += 1\n",
    "        # use network to choose action here\n",
    "        action = agent.choose(state) # choose action based on current state\n",
    "        next_state, reward, done, _ = env.step(action)\n",
    "        # the even returns done=True when the take stops\n",
    "        \n",
    "        # see below but the agent includes a memory of the state, action, next_state, and reward\n",
    "        # which can be helpful for training (replay)\n",
    "        agent.remember(state, action, next_state, reward) # record what happened in memory\n",
    "    \n",
    "        # optimize the neural network model here (i.e., adjust learning weight)\n",
    "        # you will implement this function\n",
    "        agent.learn()\n",
    "        \n",
    "        # update the state\n",
    "        state = next_state\n",
    "    \n",
    "    # return duration\n",
    "    return duration"
   ]
  },
  {
   "cell_type": "code",
   "execution_count": 443,
   "metadata": {},
   "outputs": [
    {
     "name": "stdout",
     "output_type": "stream",
     "text": [
      "\u001b[33mWARN: gym.spaces.Box autodetected dtype as <class 'numpy.float32'>. Please provide explicit dtype.\u001b[0m\n"
     ]
    }
   ],
   "source": [
    "deep_bet_agenet = NetworkAgent(n_inputs=1, n_outputs=10, gamma=0.9)\n",
    "bet_env = BlackjackBetEnv(blackjack_agent_class=NetworkAgent)"
   ]
  },
  {
   "cell_type": "code",
   "execution_count": 444,
   "metadata": {},
   "outputs": [
    {
     "name": "stderr",
     "output_type": "stream",
     "text": [
      "  0%|          | 0/200 [00:00<?, ?it/s]/Users/zhuorulin/anaconda3/envs/py36/lib/python3.6/site-packages/ipykernel_launcher.py:168: UserWarning: volatile was removed and now has no effect. Use `with torch.no_grad():` instead.\n",
      "/Users/zhuorulin/anaconda3/envs/py36/lib/python3.6/site-packages/ipykernel_launcher.py:142: UserWarning: Implicit dimension choice for softmax has been deprecated. Change the call to include dim=X as an argument.\n",
      "100%|██████████| 200/200 [01:25<00:00,  2.33it/s]\n"
     ]
    }
   ],
   "source": [
    "n_episodes = 200\n",
    "durations_history = []\n",
    "for i in tqdm(range(n_episodes)):\n",
    "    durations_history.append(run_episode(bet_env, deep_bet_agenet))"
   ]
  },
  {
   "cell_type": "code",
   "execution_count": 446,
   "metadata": {},
   "outputs": [
    {
     "data": {
      "text/plain": [
       "<matplotlib.axes._subplots.AxesSubplot at 0x1a1de4d240>"
      ]
     },
     "execution_count": 446,
     "metadata": {},
     "output_type": "execute_result"
    },
    {
     "data": {
      "image/png": "[encoded data removed]",
      "text/plain": [
       "<matplotlib.figure.Figure at 0x1a1de4d0f0>"
      ]
     },
     "metadata": {},
     "output_type": "display_data"
    }
   ],
   "source": [
    "plot_history(durations_history,ylabel='Durations')"
   ]
  },
  {
   "cell_type": "code",
   "execution_count": 448,
   "metadata": {},
   "outputs": [
    {
     "name": "stderr",
     "output_type": "stream",
     "text": [
      "/Users/zhuorulin/anaconda3/envs/py36/lib/python3.6/site-packages/ipykernel_launcher.py:168: UserWarning: volatile was removed and now has no effect. Use `with torch.no_grad():` instead.\n",
      "/Users/zhuorulin/anaconda3/envs/py36/lib/python3.6/site-packages/ipykernel_launcher.py:142: UserWarning: Implicit dimension choice for softmax has been deprecated. Change the call to include dim=X as an argument.\n"
     ]
    }
   ],
   "source": [
    "remain_money_hist = []\n",
    "from tqdm import tqdm\n",
    "state = test_env.reset()\n",
    "for i in range(1000):\n",
    "    action = deep_bet_agenet.choose(state)\n",
    "    state, _, _, _ = test_env.step(action)\n",
    "    remain_money_hist.append(state[0])"
   ]
  },
  {
   "cell_type": "code",
   "execution_count": 449,
   "metadata": {},
   "outputs": [
    {
     "data": {
      "text/plain": [
       "<matplotlib.axes._subplots.AxesSubplot at 0x1a1de27a58>"
      ]
     },
     "execution_count": 449,
     "metadata": {},
     "output_type": "execute_result"
    },
    {
     "data": {
      "image/png": "[encoded data removed]",
      "text/plain": [
       "<matplotlib.figure.Figure at 0x1a1de27e80>"
      ]
     },
     "metadata": {},
     "output_type": "display_data"
    }
   ],
   "source": [
    "plot_history(remain_money_hist)"
   ]
  }
 ],
 "metadata": {
  "kernelspec": {
   "display_name": "Python 3",
   "language": "python",
   "name": "python3"
  },
  "language_info": {
   "codemirror_mode": {
    "name": "ipython",
    "version": 3
   },
   "file_extension": ".py",
   "mimetype": "text/x-python",
   "name": "python",
   "nbconvert_exporter": "python",
   "pygments_lexer": "ipython3",
   "version": "3.6.3"
  }
 },
 "nbformat": 4,
 "nbformat_minor": 2
}
