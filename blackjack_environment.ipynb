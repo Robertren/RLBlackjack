{
 "cells": [
  {
   "cell_type": "markdown",
   "metadata": {},
   "source": [
    "### Blackjack game setting up using openai gym"
   ]
  },
  {
   "cell_type": "markdown",
   "metadata": {},
   "source": [
    "#### TODO: Compare all the methods under the same simulation"
   ]
  },
  {
   "cell_type": "code",
   "execution_count": null,
   "metadata": {},
   "outputs": [],
   "source": [
    "def get_payout_results(num_rounds, num_samples, action_method):\n",
    "    average_payouts = []\n",
    "    for sample in range(num_samples):\n",
    "        current_round = 1\n",
    "        total_payout = 0  # to store total payout over 'num_rounds'\n",
    "        \n",
    "        while current_round <= num_rounds:\n",
    "            action = action_method()  # take random action \n",
    "            obs, payout, is_done, _ = env.step(action)\n",
    "            total_payout += payout\n",
    "            if is_done:\n",
    "                env.reset()  # Environment deals new cards to player and dealer\n",
    "                current_round += 1\n",
    "        average_payouts.append(total_payout)\n",
    "        \n",
    "    plt.plot(average_payouts)\n",
    "    plt.xlabel('num_samples')\n",
    "    plt.ylabel('payout after 1000 rounds')\n",
    "    plt.show()\n",
    "    print(\"Average payout after {} rounds is {}\".format(num_rounds, sum(average_payouts) / num_samples))\n"
   ]
  },
  {
   "cell_type": "markdown",
   "metadata": {},
   "source": [
    "#### The payout given by random pick"
   ]
  },
  {
   "cell_type": "code",
   "execution_count": null,
   "metadata": {},
   "outputs": [],
   "source": [
    "import gym\n",
    "import matplotlib.pyplot as plt\n",
    "\n",
    "env = gym.make('Blackjack-v0')\n",
    "env.reset()\n",
    "\n",
    "num_rounds = 1000 # Payout calculated over num_rounds\n",
    "num_samples = 1000 # num_rounds simulated over num_samples\n",
    "get_payout_results(num_rounds, num_samples, env.action_space.sample)\n"
   ]
  },
  {
   "cell_type": "markdown",
   "metadata": {},
   "source": [
    "#### The payout given by some optimal strategy (rule base)"
   ]
  },
  {
   "cell_type": "code",
   "execution_count": null,
   "metadata": {},
   "outputs": [],
   "source": [
    "def normal_strategy(player_sum, dealer_up_card):\n",
    "    \"\"\"\n",
    "    Returns appropriate action from a 2D array storing actions\n",
    "    Actions obtained from figure 11 here- https://pdfs.semanticscholar.org/e1dd/06616e2d18179da7a3643cb3faab95222c8b.pdf\n",
    "    Each row corresponds to player sum- from 2 to 21\n",
    "    Each column corresponds to dealer_up_card- from 1 to 10\n",
    "    \"\"\"\n",
    "    actions = [[1]*10]*8 # 2 to 9\n",
    "    actions.append([1]*4 + [0]*2 + [1]*4) #10\n",
    "    actions.append([1] + [0]*6 + [1]*3) #11\n",
    "    actions.append([0] + [1]*9) #12\n",
    "    actions.append([0]*2 + [1]*8) #13\n",
    "    actions.append([0]*1 + [1]*9) #14\n",
    "    actions.append([0]*2 + [1]*8) #15\n",
    "    actions.append([0]*5 + [1]*5) #16\n",
    "    actions.append([0]*4 + [1]*6) #17\n",
    "    actions.extend([[0]*10]*4) # 18 to 21\n",
    "    \n",
    "    # dealer_up_card-2 takes care of input 1 which correcly looks up last column\n",
    "    return actions[player_sum-2][dealer_up_card-2]\n",
    "\n",
    "# Make sure actions have been stored correctly mainly when dealer's upcard is A\n",
    "assert (normal_strategy(15, 2)) == 0\n",
    "assert (normal_strategy(15, 1)) == 1\n",
    "\n",
    "total_payout = 0 # to store total payout over 'num_rounds'\n",
    "\n",
    "for _ in range(num_samples):\n",
    "    round = 1\n",
    "    while round <= num_rounds:\n",
    "        player_sum, dealer_up_card, is_done = (env._get_obs())\n",
    "        \n",
    "        # Take action based on normal strategy stored above\n",
    "        action = normal_strategy(player_sum, dealer_up_card) \n",
    "        \n",
    "        obs, payout, is_done, _ = env.step(action)\n",
    "        total_payout += payout\n",
    "        if is_done:\n",
    "            env.reset() # Environment deals new cards to player and dealer\n",
    "            round += 1\n",
    "    \n",
    "print (\"Average payout after {} rounds is {}\".format(num_rounds, total_payout/num_samples))"
   ]
  },
  {
   "cell_type": "markdown",
   "metadata": {},
   "source": [
    "#### The payout given by basic reinforcement learning method (q_learning etc)"
   ]
  },
  {
   "cell_type": "markdown",
   "metadata": {},
   "source": [
    "#### The payout given by basic reinforcement learning method (q_learning etc) with some memory simulation"
   ]
  },
  {
   "cell_type": "markdown",
   "metadata": {},
   "source": [
    "#### The payout given by basic reinforcement learning method (q_learning etc) with different betting strategy"
   ]
  },
  {
   "cell_type": "markdown",
   "metadata": {},
   "source": [
    "#### The payout given by combination of all good results"
   ]
  },
  {
   "cell_type": "markdown",
   "metadata": {},
   "source": [
    "### Comparison with human performance"
   ]
  },
  {
   "cell_type": "markdown",
   "metadata": {},
   "source": [
    "### Human tester 1 "
   ]
  },
  {
   "cell_type": "markdown",
   "metadata": {},
   "source": [
    "### Human tester2"
   ]
  },
  {
   "cell_type": "code",
   "execution_count": null,
   "metadata": {},
   "outputs": [],
   "source": []
  }
 ],
 "metadata": {
  "kernelspec": {
   "display_name": "Python 3",
   "language": "python",
   "name": "python3"
  },
  "language_info": {
   "codemirror_mode": {
    "name": "ipython",
    "version": 3
   },
   "file_extension": ".py",
   "mimetype": "text/x-python",
   "name": "python",
   "nbconvert_exporter": "python",
   "pygments_lexer": "ipython3",
   "version": "3.6.1"
  }
 },
 "nbformat": 4,
 "nbformat_minor": 2
}
