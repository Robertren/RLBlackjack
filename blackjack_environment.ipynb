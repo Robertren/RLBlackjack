{
 "cells": [
  {
   "cell_type": "markdown",
   "metadata": {},
   "source": [
    "### Blackjack game setting up using openai gym"
   ]
  },
  {
   "cell_type": "markdown",
   "metadata": {},
   "source": [
    "#### TODO: Compare all the methods under the same simulation"
   ]
  },
  {
   "cell_type": "code",
   "execution_count": 1,
   "metadata": {},
   "outputs": [],
   "source": [
    "def get_payout_results(num_rounds, num_samples, action_method):\n",
    "    average_payouts = []\n",
    "    for sample in range(num_samples):\n",
    "        current_round = 1\n",
    "        total_payout = 0  # to store total payout over 'num_rounds'\n",
    "        \n",
    "        while current_round <= num_rounds:\n",
    "            action = action_method()  # take random action \n",
    "            obs, payout, is_done, _ = env.step(action)\n",
    "            total_payout += payout\n",
    "            if is_done:\n",
    "                env.reset()  # Environment deals new cards to player and dealer\n",
    "                current_round += 1\n",
    "        average_payouts.append(total_payout)\n",
    "        \n",
    "    plt.plot(average_payouts)\n",
    "    plt.xlabel('num_samples')\n",
    "    plt.ylabel('payout after 1000 rounds')\n",
    "    plt.show()\n",
    "    print(\"Average payout after {} rounds is {}\".format(num_rounds, sum(average_payouts) / num_samples))\n"
   ]
  },
  {
   "cell_type": "markdown",
   "metadata": {},
   "source": [
    "#### The payout given by random pick"
   ]
  },
  {
   "cell_type": "code",
   "execution_count": 2,
   "metadata": {},
   "outputs": [
    {
     "data": {
      "image/png": "[encoded data removed]",
      "text/plain": [
       "<matplotlib.figure.Figure at 0x10f4409b0>"
      ]
     },
     "metadata": {},
     "output_type": "display_data"
    },
    {
     "name": "stdout",
     "output_type": "stream",
     "text": [
      "Average payout after 1000 rounds is -395.549\n"
     ]
    }
   ],
   "source": [
    "import gym\n",
    "import matplotlib.pyplot as plt\n",
    "\n",
    "env = gym.make('Blackjack-v0')\n",
    "env.reset()\n",
    "\n",
    "num_rounds = 1000 # Payout calculated over num_rounds\n",
    "num_samples = 1000 # num_rounds simulated over num_samples\n",
    "get_payout_results(num_rounds, num_samples, env.action_space.sample)\n"
   ]
  },
  {
   "cell_type": "markdown",
   "metadata": {},
   "source": [
    "#### The payout given by some optimal strategy (rule base)"
   ]
  },
  {
   "cell_type": "code",
   "execution_count": 4,
   "metadata": {},
   "outputs": [
    {
     "name": "stdout",
     "output_type": "stream",
     "text": [
      "Average payout after 1000 rounds is -98.504\n"
     ]
    }
   ],
   "source": [
    "def normal_strategy(player_sum, dealer_up_card):\n",
    "    \"\"\"\n",
    "    Returns appropriate action from a 2D array storing actions\n",
    "    Actions obtained from figure 11 here- https://pdfs.semanticscholar.org/e1dd/06616e2d18179da7a3643cb3faab95222c8b.pdf\n",
    "    Each row corresponds to player sum- from 2 to 21\n",
    "    Each column corresponds to dealer_up_card- from 1 to 10\n",
    "    \"\"\"\n",
    "    actions = [[1]*10]*8 # 2 to 9\n",
    "    actions.append([1]*4 + [0]*2 + [1]*4) #10\n",
    "    actions.append([1] + [0]*6 + [1]*3) #11\n",
    "    actions.append([0] + [1]*9) #12\n",
    "    actions.append([0]*2 + [1]*8) #13\n",
    "    actions.append([0]*1 + [1]*9) #14\n",
    "    actions.append([0]*2 + [1]*8) #15\n",
    "    actions.append([0]*5 + [1]*5) #16\n",
    "    actions.append([0]*4 + [1]*6) #17\n",
    "    actions.extend([[0]*10]*4) # 18 to 21\n",
    "    \n",
    "    # dealer_up_card-2 takes care of input 1 which correcly looks up last column\n",
    "    return actions[player_sum-2][dealer_up_card-2]\n",
    "\n",
    "# Make sure actions have been stored correctly mainly when dealer's upcard is A\n",
    "assert (normal_strategy(15, 2)) == 0\n",
    "assert (normal_strategy(15, 1)) == 1\n",
    "\n",
    "total_payout = 0 # to store total payout over 'num_rounds'\n",
    "\n",
    "for _ in range(num_samples):\n",
    "    round = 1\n",
    "    while round <= num_rounds:\n",
    "        player_sum, dealer_up_card, is_done = (env._get_obs())\n",
    "        \n",
    "        # Take action based on normal strategy stored above\n",
    "        action = normal_strategy(player_sum, dealer_up_card) \n",
    "        \n",
    "        obs, payout, is_done, _ = env.step(action)\n",
    "        total_payout += payout\n",
    "        if is_done:\n",
    "            env.reset() # Environment deals new cards to player and dealer\n",
    "            round += 1\n",
    "    \n",
    "print (\"Average payout after {} rounds is {}\".format(num_rounds, total_payout/num_samples))"
   ]
  },
  {
   "cell_type": "markdown",
   "metadata": {},
   "source": [
    "#### The payout given by basic reinforcement learning method (q_learning etc)"
   ]
  },
  {
   "cell_type": "code",
   "execution_count": 5,
   "metadata": {},
   "outputs": [],
   "source": [
    "import random\n",
    "\n",
    "class Agent():\n",
    "    def __init__(self, env, epsilon=1.0, alpha=0.5, gamma=0.9, num_episodes_to_train=30000):\n",
    "        self.env = env\n",
    "\n",
    "        # Looks like n is number of valid actions from the souce code\n",
    "        self.valid_actions = list(range(self.env.action_space.n))\n",
    "\n",
    "        # Set parameters of the learning agent\n",
    "        self.Q = dict()          # Q-table which will be a dictionary of tuples\n",
    "        self.epsilon = epsilon   # Random exploration factor\n",
    "        self.alpha = alpha       # Learning factor\n",
    "        self.gamma = gamma       # Discount factor- closer to 1 learns well into distant future\n",
    "\n",
    "        # epsilon will reduce linearly until it reaches 0 based on num_episodes_to_train\n",
    "        # epsilon drops to 90% of its inital value in the first 30% of num_episodes_to_train\n",
    "        # epsilon then drops to 10% of its initial value in the next 40% of num_episodes_to_train\n",
    "        # epsilon finally becomes 0 in the final 30% of num_episodes_to_train\n",
    "        self.num_episodes_to_train = num_episodes_to_train # Change epsilon each episode based on this\n",
    "        self.small_decrement = (0.1 * epsilon) / (0.3 * num_episodes_to_train) # reduces epsilon slowly\n",
    "        self.big_decrement = (0.8 * epsilon) / (0.4 * num_episodes_to_train) # reduces epilon faster\n",
    "\n",
    "        self.num_episodes_to_train_left = num_episodes_to_train\n",
    "\n",
    "    def update_parameters(self):\n",
    "        \"\"\"\n",
    "        Update epsilon and alpha after each action\n",
    "        Set them to 0 if not learning\n",
    "        \"\"\"\n",
    "        if self.num_episodes_to_train_left > 0.7 * self.num_episodes_to_train:\n",
    "            self.epsilon -= self.small_decrement\n",
    "        elif self.num_episodes_to_train_left > 0.3 * self.num_episodes_to_train:\n",
    "            self.epsilon -= self.big_decrement\n",
    "        elif self.num_episodes_to_train_left > 0:\n",
    "            self.epsilon -= self.small_decrement\n",
    "        else:\n",
    "            self.epsilon = 0.0\n",
    "            self.alpha = 0.0\n",
    "\n",
    "        self.num_episodes_to_train_left -= 1\n",
    "\n",
    "    def create_Q_if_new_observation(self, observation):\n",
    "        \"\"\"\n",
    "        Set intial Q values to 0.0 if observation not already in Q table\n",
    "        \"\"\"\n",
    "        if observation not in self.Q:\n",
    "            self.Q[observation] = dict((action, 0.0) for action in self.valid_actions)\n",
    "\n",
    "    def get_maxQ(self, observation):\n",
    "        \"\"\"\n",
    "        Called when the agent is asked to find the maximum Q-value of\n",
    "        all actions based on the 'observation' the environment is in.\n",
    "        \"\"\"\n",
    "        self.create_Q_if_new_observation(observation)\n",
    "        return max(self.Q[observation].values())\n",
    "\n",
    "    def choose_action(self, observation):\n",
    "        \"\"\"\n",
    "        Choose which action to take, based on the observation.\n",
    "        If observation is seen for the first time, initialize its Q values to 0.0\n",
    "        \"\"\"\n",
    "        self.create_Q_if_new_observation(observation)\n",
    "\n",
    "        # uniformly distributed random number > epsilon happens with probability 1-epsilon\n",
    "        if random.random() > self.epsilon:\n",
    "            maxQ = self.get_maxQ(observation)\n",
    "\n",
    "            # multiple actions could have maxQ- pick one at random in that case\n",
    "            # this is also the case when the Q value for this observation were just set to 0.0\n",
    "            action = random.choice([k for k in self.Q[observation].keys()\n",
    "                                    if self.Q[observation][k] == maxQ])\n",
    "        else:\n",
    "            action = random.choice(self.valid_actions)\n",
    "\n",
    "        self.update_parameters()\n",
    "\n",
    "        return action\n",
    "\n",
    "\n",
    "    def learn(self, observation, action, reward, next_observation):\n",
    "        \"\"\"\n",
    "        Called after the agent completes an action and receives an award.\n",
    "        This function does not consider future rewards\n",
    "        when conducting learning.\n",
    "        \"\"\"\n",
    "\n",
    "        # Q = Q*(1-alpha) + alpha(reward + discount * utility of next observation)\n",
    "        # Q = Q - Q * alpha + alpha(reward + discount * self.get_maxQ(next_observation))\n",
    "        # Q = Q - alpha (-Q + reward + discount * self.get_maxQ(next_observation))\n",
    "        self.Q[observation][action] += self.alpha * (reward\n",
    "                                                     + (self.gamma * self.get_maxQ(next_observation))\n",
    "                                                     - self.Q[observation][action])"
   ]
  },
  {
   "cell_type": "code",
   "execution_count": 62,
   "metadata": {},
   "outputs": [
    {
     "data": {
      "text/plain": [
       "{(4, 1, False): {0: 0.0, 1: 0.0},\n",
       " (4, 2, False): {0: 0.8, 1: 0.0},\n",
       " (4, 3, False): {0: 0.0, 1: 0.0},\n",
       " (4, 4, False): {0: 0.0, 1: 0.0},\n",
       " (4, 5, False): {0: 0.0, 1: 0.0},\n",
       " (4, 6, False): {0: 0.0, 1: 0.0},\n",
       " (4, 7, False): {0: 0.0, 1: 0.0},\n",
       " (4, 8, False): {0: 0.0, 1: 0.0},\n",
       " (4, 9, False): {0: 0.0, 1: 0.0},\n",
       " (4, 10, False): {0: -0.8, 1: -0.3704014692508452},\n",
       " (5, 1, False): {0: -0.8, 1: 0.033177600000000036},\n",
       " (5, 2, False): {0: -0.8, 1: 0.0},\n",
       " (5, 3, False): {0: 0.0, 1: 0.0},\n",
       " (5, 4, False): {0: 0.8, 1: 0.0},\n",
       " (5, 5, False): {0: 0.0, 1: 0.15757721501446265},\n",
       " (5, 6, False): {0: 0.8, 1: 0.0},\n",
       " (5, 7, False): {0: 0.0, 1: 0.0},\n",
       " (5, 8, False): {0: -0.8, 1: 0.0},\n",
       " (5, 9, False): {0: -0.8, 1: 0.0},\n",
       " (5, 10, False): {0: 1.9371847680000005, 1: 0.19788182323200018},\n",
       " (6, 1, False): {0: -0.8, 1: 0.45187891200000013},\n",
       " (6, 2, False): {0: 0.0, 1: 0.0},\n",
       " (6, 3, False): {0: -0.8, 1: -0.25345984167936036},\n",
       " (6, 4, False): {0: 0.0, 1: 1.0866514950881285},\n",
       " (6, 5, False): {0: 0.0, 1: 0.6406653962354689},\n",
       " (6, 6, False): {0: -0.8, 1: 0.0},\n",
       " (6, 7, False): {0: -0.96, 1: 0.4147200000000001},\n",
       " (6, 8, False): {0: 0.8, 1: 0.0},\n",
       " (6, 9, False): {0: -0.06400000000000006, 1: 0.8646921733859396},\n",
       " (6, 10, False): {0: -0.8287333788747324, 1: -0.8458949998284822},\n",
       " (7, 1, False): {0: 0.0, 1: 0.5826355200000001},\n",
       " (7, 2, False): {0: -0.8, 1: 0.5172387840000003},\n",
       " (7, 3, False): {0: 0.8, 1: -0.478721238368256},\n",
       " (7, 4, False): {0: -0.06400000000000006, 1: -0.46264320000000014},\n",
       " (7, 5, False): {0: -0.8, 1: 1.0554988953600002},\n",
       " (7, 6, False): {0: 1.5360000000000003, 1: 0.0},\n",
       " (7, 7, False): {0: -0.06400000000000006, 1: 0.0},\n",
       " (7, 8, False): {0: -0.8, 1: 0.0},\n",
       " (7, 9, False): {0: 0.0, 1: 0.0},\n",
       " (7, 10, False): {0: -0.5176174265795678, 1: 2.0616935123405034},\n",
       " (8, 1, False): {0: -0.992, 1: 0.0},\n",
       " (8, 2, False): {0: 0.0, 1: 0.5760000000000001},\n",
       " (8, 3, False): {0: 0.8, 1: 0.9805824000000003},\n",
       " (8, 4, False): {0: 0.0, 1: 0.4414464000000002},\n",
       " (8, 5, False): {0: -0.8128000000000001, 1: 0.5750644278151286},\n",
       " (8, 6, False): {0: 0.0, 1: 0.0},\n",
       " (8, 7, False): {0: -0.06400000000000006, 1: -0.6056755200000001},\n",
       " (8, 8, False): {0: -0.8, 1: 0.7652976662937601},\n",
       " (8, 9, False): {0: -0.36280319999999994, 1: -0.41524405862400005},\n",
       " (8, 10, False): {0: -0.9943040000000001, 1: 0.39496681709897874},\n",
       " (9, 1, False): {0: -0.8, 1: 0.019745089781760025},\n",
       " (9, 2, False): {0: -0.06400000000000006, 1: 0.0},\n",
       " (9, 3, False): {0: 0.0, 1: -0.26873399623444083},\n",
       " (9, 4, False): {0: -0.06400000000000006, 1: 1.1059200000000002},\n",
       " (9, 5, False): {0: 0.0, 1: 0.9022142545920002},\n",
       " (9, 6, False): {0: 1.524224, 1: 0.0},\n",
       " (9, 7, False): {0: -0.8, 1: 0.9600240844800005},\n",
       " (9, 8, False): {0: 0.0, 1: 0.22613209299025921},\n",
       " (9, 9, False): {0: 1.68121409536, 1: 0.4414464000000002},\n",
       " (9, 10, False): {0: -0.5770618717106438, 1: -0.5474154547344644},\n",
       " (10, 1, False): {0: -0.95218688, 1: -0.797405184},\n",
       " (10, 2, False): {0: -0.9625600000000001, 1: 1.3091688599651357},\n",
       " (10, 3, False): {0: 0.0, 1: 2.6122489823232002},\n",
       " (10, 4, False): {0: -0.8, 1: 1.3874002329600004},\n",
       " (10, 5, False): {0: 0.3472814080000003, 1: 1.4043693215536244},\n",
       " (10, 6, False): {0: 1.2360704000000005, 1: 1.0174464000000003},\n",
       " (10, 7, False): {0: -0.8, 1: 3.5298756415898493},\n",
       " (10, 8, False): {0: -0.8, 1: -0.4418891026991678},\n",
       " (10, 9, False): {0: -0.72369152, 1: 4.317615804354588},\n",
       " (10, 10, False): {0: -0.7430545570069973, 1: 1.80173525567454},\n",
       " (11, 1, False): {0: -0.8, 1: 0.6451200000000001},\n",
       " (11, 2, False): {0: -0.8, 1: -0.49121280000000017},\n",
       " (11, 3, False): {0: 0.0, 1: 0.0},\n",
       " (11, 4, False): {0: -0.21119999999999994, 1: 0.46080000000000015},\n",
       " (11, 5, False): {0: 0.0, 1: 0.7804597801627183},\n",
       " (11, 6, False): {0: -1.0592364494848, 1: 0.18477148005791189},\n",
       " (11, 7, False): {0: -0.992, 1: 3.2216940028306986},\n",
       " (11, 8, False): {0: -0.4810239999999999, 1: 0.46080000000000015},\n",
       " (11, 9, False): {0: -0.8, 1: 0.8996261068800001},\n",
       " (11, 10, False): {0: -1.0327776764129968, 1: -0.7169094064188042},\n",
       " (12, 1, False): {0: -0.8588800000000001, 1: -0.7907878928384},\n",
       " (12, 1, True): {0: 0.0, 1: 0.0},\n",
       " (12, 2, False): {0: 1.5360000000000003, 1: -0.41479577600000006},\n",
       " (12, 2, True): {0: 0.0, 1: 0.0},\n",
       " (12, 3, False): {0: -0.7422727290879999, 1: 0.42231126838956334},\n",
       " (12, 3, True): {0: 0.0, 1: 0.0},\n",
       " (12, 4, False): {0: -1.0170552320000001, 1: -0.9368312217600001},\n",
       " (12, 4, True): {0: 0.0, 1: 0.5760000000000001},\n",
       " (12, 5, False): {0: 1.2598434848047453, 1: -0.3776649795993601},\n",
       " (12, 5, True): {0: 0.0, 1: 0.0},\n",
       " (12, 6, False): {0: -1.0989596672, 1: -0.118357393408},\n",
       " (12, 6, True): {0: 0.0, 1: 0.0},\n",
       " (12, 7, False): {0: -0.8, 1: 1.4682833715199999},\n",
       " (12, 7, True): {0: 0.0, 1: 0.0},\n",
       " (12, 8, False): {0: -1.2506068123647998, 1: -0.926707612853809},\n",
       " (12, 8, True): {0: 0.0, 1: 0.0},\n",
       " (12, 9, False): {0: -1.3016576, 1: -0.49690284169625576},\n",
       " (12, 9, True): {0: -0.8, 1: -0.69382029312},\n",
       " (12, 10, False): {0: -1.2944766625325728, 1: 1.8298965455759628},\n",
       " (12, 10, True): {0: 0.8, 1: 0.0},\n",
       " (13, 1, False): {0: -0.992, 1: -0.8541966336},\n",
       " (13, 1, True): {0: 0.0, 1: 0.4414464000000002},\n",
       " (13, 2, False): {0: -1.7200640000000003, 1: 0.6779084800000003},\n",
       " (13, 2, True): {0: -0.8, 1: 1.5934464000000004},\n",
       " (13, 3, False): {0: -1.0170552320000001, 1: 1.723453131436854},\n",
       " (13, 3, True): {0: 0.0, 1: 0.5745773445119999},\n",
       " (13, 4, False): {0: -0.009830399999999906, 1: -0.94336},\n",
       " (13, 4, True): {0: 0.0, 1: 0.0},\n",
       " (13, 5, False): {0: -0.3243006961159063, 1: -0.617216},\n",
       " (13, 5, True): {0: 0.0, 1: 0.0},\n",
       " (13, 6, False): {0: 0.05025151755323043, 1: 0.38743040000000006},\n",
       " (13, 6, True): {0: -0.06400000000000006, 1: 1.512050688},\n",
       " (13, 7, False): {0: -1.5360000000000003, 1: 0.15647035381941876},\n",
       " (13, 7, True): {0: -0.8, 1: 0.0},\n",
       " (13, 8, False): {0: -0.38385299685375995, 1: -0.2661041252597758},\n",
       " (13, 8, True): {0: 0.0, 1: 0.0},\n",
       " (13, 9, False): {0: 0.2033052516352002, 1: -0.6848000000000001},\n",
       " (13, 9, True): {0: 0.0, 1: 0.0},\n",
       " (13, 10, False): {0: -1.3268974591394191, 1: 2.343787901148198},\n",
       " (13, 10, True): {0: -0.8, 1: -0.4004853429434137},\n",
       " (14, 1, False): {0: -1.5360000000000003, 1: -0.99647488},\n",
       " (14, 1, True): {0: -0.5843455999999999, 1: 0.2995200000000001},\n",
       " (14, 2, False): {0: -1.6908800000000002, 1: 0.1765464222990336},\n",
       " (14, 2, True): {0: -0.8, 1: 0.0},\n",
       " (14, 3, False): {0: -0.7291225735168, 1: 0.1272297312400128},\n",
       " (14, 3, True): {0: 0.0, 1: -0.4930560000000001},\n",
       " (14, 4, False): {0: -0.992, 1: 1.481125314039105},\n",
       " (14, 4, True): {0: 0.0, 1: 0.09289728000000003},\n",
       " (14, 5, False): {0: -0.2478902476799999, 1: 0.07644745343796977},\n",
       " (14, 5, True): {0: 0.0, 1: -0.1977441016872959},\n",
       " (14, 6, False): {0: -1.5360000000000003, 1: -0.9191436288},\n",
       " (14, 6, True): {0: 1.5360000000000003, 1: 0.0},\n",
       " (14, 7, False): {0: -0.908716032, 1: 1.6909562583043303},\n",
       " (14, 7, True): {0: 0.0, 1: 0.0},\n",
       " (14, 8, False): {0: -1.0462634803200002, 1: -0.45556562779439097},\n",
       " (14, 8, True): {0: 0.0, 1: 0.6382161100800002},\n",
       " (14, 9, False): {0: -1.4289117184000002, 1: 0.7506542592000004},\n",
       " (14, 9, True): {0: -0.8, 1: 0.0},\n",
       " (14, 10, False): {0: -1.7445275143469245, 1: 3.5486848499565875},\n",
       " (14, 10, True): {0: -0.8, 1: 0.7435941271415636},\n",
       " (15, 1, False): {0: -1.60642048, 1: 0.1037574638141443},\n",
       " (15, 1, True): {0: -0.8, 1: -0.6944808960000001},\n",
       " (15, 2, False): {0: -1.5297626112, 1: -0.9916534784},\n",
       " (15, 2, True): {0: 0.8, 1: 0.0},\n",
       " (15, 3, False): {0: 0.7800667773717186, 1: -0.9160098345057437},\n",
       " (15, 3, True): {0: 0.0, 1: 0.0},\n",
       " (15, 4, False): {0: -0.9943040000000001, 1: 3.089401820601274},\n",
       " (15, 4, True): {0: -0.8, 1: 0.0},\n",
       " (15, 5, False): {0: 0.5632839680000002, 1: -0.9546149888},\n",
       " (15, 5, True): {0: 0.0, 1: 1.0957455360000001},\n",
       " (15, 6, False): {0: -1.568, 1: 3.290251703075472},\n",
       " (15, 6, True): {0: 0.0, 1: 0.0},\n",
       " (15, 7, False): {0: -1.5016960000000001, 1: -0.7993708913311004},\n",
       " (15, 7, True): {0: 0.0, 1: 0.0},\n",
       " (15, 8, False): {0: -0.96, 1: 0.9587075146055682},\n",
       " (15, 8, True): {0: 0.0, 1: 1.1059200000000002},\n",
       " (15, 9, False): {0: -1.4818304000000002, 1: -0.93824},\n",
       " (15, 9, True): {0: -0.06400000000000006, 1: 0.0},\n",
       " (15, 10, False): {0: -1.3055171818082127, 1: -0.5306078240694277},\n",
       " (15, 10, True): {0: -1.1544576, 1: -0.5836972346838272},\n",
       " (16, 1, False): {0: -1.3310976, 1: -0.9001086164181975},\n",
       " (16, 1, True): {0: -0.8, 1: 0.4744396800000001},\n",
       " (16, 2, False): {0: 0.8308326320360654, 1: -0.99126272},\n",
       " (16, 2, True): {0: 0.0, 1: 0.0},\n",
       " (16, 3, False): {0: -1.5661605994251004, 1: -0.96},\n",
       " (16, 3, True): {0: -0.8, 1: 0.0},\n",
       " (16, 4, False): {0: 0.31187582031883176, 1: 0.0},\n",
       " (16, 4, True): {0: -0.8, 1: 0.0},\n",
       " (16, 5, False): {0: -1.1559111710159664, 1: -0.8},\n",
       " (16, 5, True): {0: -0.8, 1: -0.33346809445220316},\n",
       " (16, 6, False): {0: -0.8, 1: 2.15988325823126},\n",
       " (16, 6, True): {0: 0.0, 1: 0.0},\n",
       " (16, 7, False): {0: -1.8542911291392001, 1: -0.99997390143488},\n",
       " (16, 7, True): {0: -0.8, 1: 1.9603472191900881},\n",
       " (16, 8, False): {0: -0.4869038571519999, 1: 0.0},\n",
       " (16, 8, True): {0: 0.0, 1: 1.6856064000000004},\n",
       " (16, 9, False): {0: -1.5276795494400002, 1: -0.0782293882674776},\n",
       " (16, 9, True): {0: 0.0, 1: 0.0},\n",
       " (16, 10, False): {0: -1.1801135468789785, 1: 0.8039248232875993},\n",
       " (16, 10, True): {0: -0.8, 1: -0.2796803926906031},\n",
       " (17, 1, False): {0: -0.3872493160051506, 1: -0.96},\n",
       " (17, 1, True): {0: 0.0, 1: 0.0},\n",
       " (17, 2, False): {0: -1.6831999999999998, 1: -0.9745621202239488},\n",
       " (17, 2, True): {0: 0.8, 1: -0.6619174207488001},\n",
       " (17, 3, False): {0: -1.5831271706460162, 1: -0.9984},\n",
       " (17, 3, True): {0: 0.0, 1: 0.86186047832064},\n",
       " (17, 4, False): {0: -0.8, 1: -0.992},\n",
       " (17, 4, True): {0: 0.0, 1: 0.5760000000000001},\n",
       " (17, 5, False): {0: -0.5319712309247999, 1: -0.8},\n",
       " (17, 5, True): {0: 0.7360000000000001, 1: 0.0},\n",
       " (17, 6, False): {0: -0.8588800000000001, 1: -0.8414119679102061},\n",
       " (17, 6, True): {0: 0.0, 1: 0.0},\n",
       " (17, 7, False): {0: -1.4878720000000003, 1: -0.9670785809253057},\n",
       " (17, 7, True): {0: 0.0, 1: -0.7199060451655681},\n",
       " (17, 8, False): {0: -1.6303972450304003, 1: -0.992},\n",
       " (17, 8, True): {0: -0.06400000000000006, 1: 0.5760000000000001},\n",
       " (17, 9, False): {0: -1.5360000000000003, 1: -0.617216},\n",
       " (17, 9, True): {0: 0.8, 1: 0.0},\n",
       " (17, 10, False): {0: -1.6500730552105516, 1: -0.08546705705202662},\n",
       " (17, 10, True): {0: 0.9283615675467978, 1: 3.685318547453096},\n",
       " (18, 1, False): {0: -0.06400000000000006, 1: -0.8},\n",
       " (18, 1, True): {0: -0.8, 1: -0.413345120256},\n",
       " (18, 2, False): {0: -1.5901696000000003, 1: 0.7051602329600004},\n",
       " (18, 2, True): {0: 2.8360704000000005, 1: 0.0},\n",
       " (18, 3, False): {0: -1.5360000000000003, 1: -0.99968},\n",
       " (18, 3, True): {0: 0.0, 1: -0.4610845310976},\n",
       " (18, 4, False): {0: -0.018150850559999987, 1: -0.992},\n",
       " (18, 4, True): {0: 1.5360000000000003, 1: 0.0},\n",
       " (18, 5, False): {0: 1.4272839680000002, 1: -0.5133107199999998},\n",
       " (18, 5, True): {0: 0.8, 1: 0.7079141376000001},\n",
       " (18, 6, False): {0: -0.06400000000000006, 1: 3.4584883539493267},\n",
       " (18, 6, True): {0: -0.21119999999999994, 1: 0.6787996817817603},\n",
       " (18, 7, False): {0: 1.1320647679999998, 1: -0.96},\n",
       " (18, 7, True): {0: 0.0, 1: 0.0},\n",
       " (18, 8, False): {0: 0.2025132950517763, 1: -0.877557366784},\n",
       " (18, 8, True): {0: 0.0, 1: -0.36457839104734424},\n",
       " (18, 9, False): {0: -0.38173996849561564, 1: -0.8},\n",
       " (18, 9, True): {0: 1.5360000000000003, 1: 0.0},\n",
       " (18, 10, False): {0: -1.0094014111633047, 1: 3.299250429142795},\n",
       " (18, 10, True): {0: -0.15999999999999992, 1: 5.624895509924485},\n",
       " (19, 1, False): {0: 0.07482546952601588, 1: -0.992256},\n",
       " (19, 1, True): {0: -0.8, 1: 0.11809349959680004},\n",
       " (19, 2, False): {0: 3.5574718113513475, 1: -0.992},\n",
       " (19, 2, True): {0: -0.06400000000000006, 1: -0.6972825600000001},\n",
       " (19, 3, False): {0: 4.289921462144118, 1: -0.9984},\n",
       " (19, 3, True): {0: 0.8, 1: 0.0},\n",
       " (19, 4, False): {0: 2.2131200000000004, 1: -0.6848000000000001},\n",
       " (19, 4, True): {0: 1.5360000000000003, 1: 0.0},\n",
       " (19, 5, False): {0: 3.2593299865600005, 1: -0.19967999999999997},\n",
       " (19, 5, True): {0: 0.0, 1: 0.0},\n",
       " (19, 6, False): {0: 3.6102146577636796, 1: -0.96},\n",
       " (19, 6, True): {0: 0.0, 1: 0.0},\n",
       " (19, 7, False): {0: 0.24620998656000048, 1: -0.96},\n",
       " (19, 7, True): {0: 0.7360000000000001, 1: 0.0},\n",
       " (19, 8, False): {0: 4.3245171874201604, 1: 0.0},\n",
       " (19, 8, True): {0: 2.8360704000000005, 1: 0.5760000000000001},\n",
       " (19, 9, False): {0: 1.1960647680000003, 1: -0.96},\n",
       " (19, 9, True): {0: 0.0, 1: 1.1059200000000002},\n",
       " (19, 10, False): {0: -0.8845385404599855, 1: 4.526303352944742},\n",
       " (19, 10, True): {0: 2.2596615709293544, 1: 0.2985939976655276},\n",
       " (20, 1, False): {0: 2.258821947524911, 1: -0.9999998976},\n",
       " (20, 1, True): {0: -1.0170552320000001, 1: 1.0268686525812345},\n",
       " (20, 2, False): {0: 2.8783768550472866, 1: -0.99328},\n",
       " (20, 2, True): {0: 0.0, 1: 0.5760000000000001},\n",
       " (20, 3, False): {0: 4.3405460500643835, 1: -0.99968},\n",
       " (20, 3, True): {0: 1.5360000000000003, 1: 0.0},\n",
       " (20, 4, False): {0: 4.213637942192686, 1: -0.96},\n",
       " (20, 4, True): {0: 0.0, 1: 2.358219781177344},\n",
       " (20, 5, False): {0: 3.987336123451179, 1: -0.8},\n",
       " (20, 5, True): {0: 0.4147200000000001, 1: 3.861810879222662},\n",
       " (20, 6, False): {0: 4.293893144838904, 1: -0.724736},\n",
       " (20, 6, True): {0: 0.0, 1: 0.37177344000000023},\n",
       " (20, 7, False): {0: 5.332385232499884, 1: -0.96},\n",
       " (20, 7, True): {0: 0.0, 1: 0.4594587822194689},\n",
       " (20, 8, False): {0: 6.003626221142586, 1: -0.992},\n",
       " (20, 8, True): {0: 0.0, 1: 2.949443990323201},\n",
       " (20, 9, False): {0: 6.297759331266491, 1: -0.19967999999999997},\n",
       " (20, 9, True): {0: 0.8, 1: 0.0},\n",
       " (20, 10, False): {0: 4.930972011176059, 1: -0.28033104586721524},\n",
       " (20, 10, True): {0: 1.0363548058189347, 1: -0.3861645324659553},\n",
       " (21, 1, False): {0: 1.4771200000000002, 1: -0.992},\n",
       " (21, 1, True): {0: 2.8366699078615047, 1: 0.5760000000000001},\n",
       " (21, 2, False): {0: 2.2131200000000004, 1: -0.8},\n",
       " (21, 2, True): {0: 3.2004499865600002, 1: 0.0},\n",
       " (21, 3, False): {0: 2.2131200000000004, 1: -0.8},\n",
       " (21, 3, True): {0: 0.8, 1: 0.0},\n",
       " (21, 4, False): {0: 0.8, 1: -0.96},\n",
       " (21, 4, True): {0: 2.2131200000000004, 1: 0.26462453760000015},\n",
       " (21, 5, False): {0: 1.4131200000000004, 1: -0.8},\n",
       " (21, 5, True): {0: 3.7985835876352008, 1: 0.5760000000000001},\n",
       " (21, 6, False): {0: 4.867811268624385, 1: -0.96},\n",
       " (21, 6, True): {0: 2.732064768, 1: 2.0419706880000006},\n",
       " (21, 7, False): {0: 0.8, 1: 0.0},\n",
       " (21, 7, True): {0: 2.2131200000000004, 1: -0.7082556456960001},\n",
       " (21, 8, False): {0: 1.5360000000000003, 1: -0.8},\n",
       " (21, 8, True): {0: 2.2131200000000004, 1: 0.08755200000000002},\n",
       " (21, 9, False): {0: 2.2131200000000004, 1: -0.8},\n",
       " (21, 9, True): {0: 0.0, 1: 0.0},\n",
       " (21, 10, False): {0: 6.589654986804668, 1: -0.9999998976},\n",
       " (21, 10, True): {0: 7.770636470193804, 1: 0.3316808811582752},\n",
       " (22, 1, False): {0: 0.0, 1: 0.0},\n",
       " (22, 2, False): {0: 0.0, 1: 0.0},\n",
       " (22, 3, False): {0: 0.0, 1: 0.0},\n",
       " (22, 4, False): {0: 0.0, 1: 0.0},\n",
       " (22, 5, False): {0: 0.0, 1: 0.0},\n",
       " (22, 6, False): {0: 0.0, 1: 0.0},\n",
       " (22, 7, False): {0: 0.0, 1: 0.0},\n",
       " (22, 8, False): {0: 0.0, 1: 0.0},\n",
       " (22, 9, False): {0: 0.0, 1: 0.0},\n",
       " (22, 10, False): {0: 0.0, 1: 0.0},\n",
       " (23, 1, False): {0: 0.0, 1: 0.0},\n",
       " (23, 2, False): {0: 0.0, 1: 0.0},\n",
       " (23, 3, False): {0: 0.0, 1: 0.0},\n",
       " (23, 4, False): {0: 0.0, 1: 0.0},\n",
       " (23, 5, False): {0: 0.0, 1: 0.0},\n",
       " (23, 6, False): {0: 0.0, 1: 0.0},\n",
       " (23, 7, False): {0: 0.0, 1: 0.0},\n",
       " (23, 8, False): {0: 0.0, 1: 0.0},\n",
       " (23, 9, False): {0: 0.0, 1: 0.0},\n",
       " (23, 10, False): {0: 0.0, 1: 0.0},\n",
       " (24, 1, False): {0: 0.0, 1: 0.0},\n",
       " (24, 2, False): {0: 0.0, 1: 0.0},\n",
       " (24, 3, False): {0: 0.0, 1: 0.0},\n",
       " (24, 4, False): {0: 0.0, 1: 0.0},\n",
       " (24, 5, False): {0: 0.0, 1: 0.0},\n",
       " (24, 6, False): {0: 0.0, 1: 0.0},\n",
       " (24, 7, False): {0: 0.0, 1: 0.0},\n",
       " (24, 8, False): {0: 0.0, 1: 0.0},\n",
       " (24, 9, False): {0: 0.0, 1: 0.0},\n",
       " (24, 10, False): {0: 0.0, 1: 0.0},\n",
       " (25, 1, False): {0: 0.0, 1: 0.0},\n",
       " (25, 2, False): {0: 0.0, 1: 0.0},\n",
       " (25, 3, False): {0: 0.0, 1: 0.0},\n",
       " (25, 4, False): {0: 0.0, 1: 0.0},\n",
       " (25, 5, False): {0: 0.0, 1: 0.0},\n",
       " (25, 6, False): {0: 0.0, 1: 0.0},\n",
       " (25, 7, False): {0: 0.0, 1: 0.0},\n",
       " (25, 8, False): {0: 0.0, 1: 0.0},\n",
       " (25, 9, False): {0: 0.0, 1: 0.0},\n",
       " (25, 10, False): {0: 0.0, 1: 0.0},\n",
       " (26, 1, False): {0: 0.0, 1: 0.0},\n",
       " (26, 2, False): {0: 0.0, 1: 0.0},\n",
       " (26, 3, False): {0: 0.0, 1: 0.0},\n",
       " (26, 5, False): {0: 0.0, 1: 0.0},\n",
       " (26, 6, False): {0: 0.0, 1: 0.0},\n",
       " (26, 7, False): {0: 0.0, 1: 0.0},\n",
       " (26, 8, False): {0: 0.0, 1: 0.0},\n",
       " (26, 9, False): {0: 0.0, 1: 0.0},\n",
       " (26, 10, False): {0: 0.0, 1: 0.0},\n",
       " (27, 1, False): {0: 0.0, 1: 0.0},\n",
       " (27, 2, False): {0: 0.0, 1: 0.0},\n",
       " (27, 3, False): {0: 0.0, 1: 0.0},\n",
       " (27, 5, False): {0: 0.0, 1: 0.0},\n",
       " (27, 6, False): {0: 0.0, 1: 0.0},\n",
       " (27, 7, False): {0: 0.0, 1: 0.0},\n",
       " (27, 8, False): {0: 0.0, 1: 0.0},\n",
       " (27, 9, False): {0: 0.0, 1: 0.0},\n",
       " (27, 10, False): {0: 0.0, 1: 0.0},\n",
       " (28, 1, False): {0: 0.0, 1: 0.0},\n",
       " (28, 2, False): {0: 0.0, 1: 0.0},\n",
       " (28, 3, False): {0: 0.0, 1: 0.0},\n",
       " (28, 4, False): {0: 0.0, 1: 0.0},\n",
       " (28, 5, False): {0: 0.0, 1: 0.0},\n",
       " (28, 6, False): {0: 0.0, 1: 0.0},\n",
       " (28, 7, False): {0: 0.0, 1: 0.0},\n",
       " (28, 8, False): {0: 0.0, 1: 0.0},\n",
       " (28, 10, False): {0: 0.0, 1: 0.0},\n",
       " (29, 1, False): {0: 0.0, 1: 0.0},\n",
       " (29, 2, False): {0: 0.0, 1: 0.0},\n",
       " (29, 3, False): {0: 0.0, 1: 0.0},\n",
       " (29, 4, False): {0: 0.0, 1: 0.0},\n",
       " (29, 5, False): {0: 0.0, 1: 0.0},\n",
       " (29, 6, False): {0: 0.0, 1: 0.0},\n",
       " (29, 8, False): {0: 0.0, 1: 0.0},\n",
       " (29, 10, False): {0: 0.0, 1: 0.0},\n",
       " (30, 1, False): {0: 0.0, 1: 0.0},\n",
       " (30, 2, False): {0: 0.0, 1: 0.0},\n",
       " (30, 3, False): {0: 0.0, 1: 0.0},\n",
       " (30, 4, False): {0: 0.0, 1: 0.0},\n",
       " (30, 5, False): {0: 0.0, 1: 0.0},\n",
       " (30, 6, False): {0: 0.0, 1: 0.0},\n",
       " (30, 8, False): {0: 0.0, 1: 0.0},\n",
       " (30, 10, False): {0: 0.0, 1: 0.0},\n",
       " (31, 5, False): {0: 0.0, 1: 0.0},\n",
       " (31, 10, False): {0: 0.0, 1: 0.0}}"
      ]
     },
     "execution_count": 62,
     "metadata": {},
     "output_type": "execute_result"
    }
   ],
   "source": [
    "agent.Q"
   ]
  },
  {
   "cell_type": "code",
   "execution_count": 6,
   "metadata": {},
   "outputs": [
    {
     "name": "stdout",
     "output_type": "stream",
     "text": [
      "Average payout after 1000 rounds after training for 200 episodes is -231.74\n",
      "Average payout after 1000 rounds after training for 400 episodes is -236.68\n",
      "Average payout after 1000 rounds after training for 600 episodes is -174.5\n",
      "Average payout after 1000 rounds after training for 800 episodes is -220.46\n",
      "Average payout after 1000 rounds after training for 1000 episodes is -203.62\n",
      "Average payout after 1000 rounds after training for 1200 episodes is -176.3\n",
      "Average payout after 1000 rounds after training for 1400 episodes is -215.02\n",
      "Average payout after 1000 rounds after training for 1600 episodes is -185.62\n",
      "Average payout after 1000 rounds after training for 1800 episodes is -140.34\n",
      "Average payout after 1000 rounds after training for 2000 episodes is -180.26\n"
     ]
    },
    {
     "data": {
      "image/png": "[encoded data removed]",
      "text/plain": [
       "<matplotlib.figure.Figure at 0x1071c50f0>"
      ]
     },
     "metadata": {},
     "output_type": "display_data"
    }
   ],
   "source": [
    "from gym import wrappers\n",
    "env = gym.make('Blackjack-v0')\n",
    "\n",
    "num_rounds = 1000 # Payout calculated over num_rounds\n",
    "num_samples = 50 # num_rounds simulated over num_samples\n",
    "\n",
    "\n",
    "num_episodes_values = range(200, 2200, 200)\n",
    "\n",
    "plt.figure(num=None, figsize=(16, 12))\n",
    "plt.clf()\n",
    "                          \n",
    "# Run simulations over different values of 'num_episodes_to_train' to find the one with best payout\n",
    "for num_episodes_value in num_episodes_values:\n",
    "    total_payout = 0 # to store total payout over 'num_rounds'\n",
    "    average_payouts = [] # to store total payout over 'num_rounds' after 'num_sample' simulations\n",
    "    agent = Agent(env=env, epsilon=1.0, alpha=0.8, gamma=0.9, num_episodes_to_train=num_episodes_value)\n",
    "\n",
    "    observation = env.reset()\n",
    "    for sample in range(num_samples):\n",
    "        round = 1\n",
    "        # Take action based on Q-table of the agent and learn based on that until 'num_episodes_to_train' = 0\n",
    "        while round <= num_rounds:\n",
    "            action = agent.choose_action(observation)\n",
    "            next_observation, payout, is_done, _ = env.step(action)\n",
    "            agent.learn(observation, action, payout, next_observation)\n",
    "            total_payout += payout\n",
    "            observation = next_observation\n",
    "            if is_done:\n",
    "                observation = env.reset() # Environment deals new cards to player and dealer\n",
    "                round += 1\n",
    "                average_payouts.append(total_payout/(sample*num_rounds + round))\n",
    "\n",
    "    plt.plot(average_payouts)\n",
    "    print (\"Average payout after {} rounds after training for {} episodes is {}\".format(num_rounds, num_episodes_value, total_payout/(num_samples)))\n",
    "    \n",
    "\n",
    "# Plot payout per 1000 episodes for each value of 'num_episodes_to_train' in the same graph\n",
    "plt.xlabel('num_episodes')\n",
    "plt.ylabel('payout')\n",
    "plt.legend([\"{}\".format(i) for i in num_episodes_values], loc='upper left')\n",
    "plt.ylim(-0.5,0) # To zoom into this region\n",
    "plt.show()\n",
    "env.close()"
   ]
  },
  {
   "cell_type": "markdown",
   "metadata": {},
   "source": [
    "#### The payout given by basic reinforcement learning method (q_learning etc) with some memory simulation"
   ]
  },
  {
   "cell_type": "code",
   "execution_count": 142,
   "metadata": {},
   "outputs": [
    {
     "data": {
      "text/plain": [
       "[200, 400, 600, 800, 1000, 1200, 1400, 1600, 1800, 2000]"
      ]
     },
     "execution_count": 142,
     "metadata": {},
     "output_type": "execute_result"
    }
   ],
   "source": [
    "list(range(200, 2200, 200))"
   ]
  },
  {
   "cell_type": "markdown",
   "metadata": {},
   "source": [
    "### Deep Q learning"
   ]
  },
  {
   "cell_type": "code",
   "execution_count": 88,
   "metadata": {},
   "outputs": [],
   "source": [
    "import math\n",
    "import numpy as np"
   ]
  },
  {
   "cell_type": "code",
   "execution_count": 49,
   "metadata": {},
   "outputs": [],
   "source": [
    "from collections import namedtuple\n",
    "from itertools import count"
   ]
  },
  {
   "cell_type": "code",
   "execution_count": 51,
   "metadata": {},
   "outputs": [],
   "source": [
    "# pytorch stuff\n",
    "import torch\n",
    "import torch.nn.functional as F\n",
    "import torch.nn as nn\n",
    "from torch.autograd import Variable\n",
    "import torch.optim as optim\n",
    "\n",
    "# if gpu is to be used\n",
    "use_cuda = torch.cuda.is_available()\n",
    "FloatTensor = torch.cuda.FloatTensor if use_cuda else torch.FloatTensor\n",
    "LongTensor = torch.cuda.LongTensor if use_cuda else torch.LongTensor\n",
    "ByteTensor = torch.cuda.ByteTensor if use_cuda else torch.ByteTensor\n",
    "Tensor = FloatTensor"
   ]
  },
  {
   "cell_type": "markdown",
   "metadata": {},
   "source": [
    "#### TODO: Transfer the model input into vector format"
   ]
  },
  {
   "cell_type": "code",
   "execution_count": 59,
   "metadata": {},
   "outputs": [],
   "source": [
    "def transfer_card_input(player, dealer):\n",
    "    # transfer the dealer and player card into a fixed dimension list\n",
    "    deal_card = [dealer[0]]\n",
    "    player_card = player + [0] * (15 - len(player))\n",
    "    return player_card + deal_card"
   ]
  },
  {
   "cell_type": "code",
   "execution_count": 50,
   "metadata": {},
   "outputs": [],
   "source": [
    "Transition = namedtuple('Transition', ('state', 'action', 'next_state', 'reward'))\n",
    "\n",
    "class ReplayMemory(object):\n",
    "    \n",
    "    def __init__(self, capacity):\n",
    "        self.capacity = capacity\n",
    "        self.memory = []\n",
    "        self.position = 0\n",
    "    \n",
    "    def push(self, *args):\n",
    "        \"\"\"Saves a transition\"\"\"\n",
    "        if len(self.memory) < self.capacity:\n",
    "            self.memory.append(None) # grow the memory\n",
    "        self.memory[self.position] = Transition(*args)\n",
    "        self.position = (self.position+1)%self.capacity # loop around\n",
    "    \n",
    "    def sample(self, batch_size):\n",
    "        return random.sample(self.memory, batch_size)\n",
    "    \n",
    "    def __len__(self):\n",
    "        return len(self.memory)"
   ]
  },
  {
   "cell_type": "code",
   "execution_count": 146,
   "metadata": {},
   "outputs": [],
   "source": [
    "BATCH_SIZE = 128\n",
    "EPS_START = 0.9\n",
    "EPS_END = 0.05\n",
    "EPS_DECAY = 200\n",
    "steps_done = 0\n",
    "\n",
    "class NetworkAgent(nn.Module):\n",
    "    \n",
    "    def __init__(self, n_inputs, n_outputs, gamma):\n",
    "        self.H = 32 # the number of hidden units (you can change this or make it a parameter)\n",
    "        self.MEM_SIZE = 10000 # could be made a parmaeter\n",
    "        self.BATCH_SIZE = 64\n",
    "        nn.Module.__init__(self)\n",
    "        self.num_inputs = n_inputs\n",
    "        self.num_actions = n_outputs\n",
    "        self.l1 = nn.Linear(self.num_inputs, self.H) # defines the input units and layer 1 weights\n",
    "        self.l2 = nn.Linear(self.H, 10) # defines the output units (actions) and layer 2 weights\n",
    "        self.l3 = nn.Linear(10, self.num_actions)\n",
    "        self.memory = ReplayMemory(self.MEM_SIZE) # create a replay memory \n",
    "        self.gamma = gamma\n",
    "    \n",
    "    # makes forward predictions from the current state, x, to the actions\n",
    "    def forward(self, x):\n",
    "        # the forward function is required by the neural network and takes an input\n",
    "        # vector (x) representing in this case the current state and makes a prediction\n",
    "        # about the activation of the output units in the network.\n",
    "        x = F.relu(self.l1(x)) # state -> hidden -> relu()\n",
    "        x = F.relu(self.l2(x)) # hidden -> hidden\n",
    "        x = self.l3(x)\n",
    "        return x \n",
    "    \n",
    "    # makes a choice about which action to perform (left=0, right=1)\n",
    "    def choose(self, state):\n",
    "        #### YOUR CODE HERE\n",
    "        \n",
    "        # you should implement a rule for making choices.\n",
    "        # you can use any of the algorithms discussed in class or that you used in the \n",
    "        # earlier part of the homework (softmax, ucb)\n",
    "        # however, you will want to based your actions somewhat on the network's\n",
    "        # predictions about what to do:\n",
    "        # \n",
    "        # to give you a hint the following set of lines\n",
    "        # show how to use the network to make a forward prediction:\n",
    "        #        state_vec = Variable(FloatTensor([state]), volatile=True).type(FloatTensor)\n",
    "        #        self(state_vec)\n",
    "        # specifcally, calling self(state_vec) run the self.forward() function defined above\n",
    "        \n",
    "        # right now the algorithm ignores the current state and network\n",
    "        # but will need to decide based on this later.\n",
    "        global steps_done\n",
    "        sample = random.random()\n",
    "        eps_threshold = EPS_END + (EPS_START - EPS_END) * \\\n",
    "                        math.exp(-1. * steps_done / EPS_DECAY)\n",
    "        steps_done += 1\n",
    "        if sample > eps_threshold:\n",
    "            state_vec = Variable(FloatTensor([state]), volatile=True).type(FloatTensor)\n",
    "            action = self(state_vec).max(1)[1].data.numpy()[0]\n",
    "            return action\n",
    "        else:\n",
    "            return random.randrange(2)\n",
    "        \n",
    "        \n",
    "    \n",
    "    # stores the last state, action pair in a format that is useful to the network\n",
    "    def remember(self, *args):\n",
    "        args = (FloatTensor([args[0]]),\n",
    "               args[1],\n",
    "               FloatTensor([args[2]]),\n",
    "               FloatTensor([args[3]]))\n",
    "        self.memory.push(*args)\n",
    "    \n",
    "    def learn(self):\n",
    "        if len(self.memory) < self.BATCH_SIZE:\n",
    "            return # don't do learning if you haven't accumulated enough experience yet (this could be improved)\n",
    "        \n",
    "        # get a bunch of training data\n",
    "        transitions = self.memory.sample(self.BATCH_SIZE)\n",
    "        batch_state, batch_action, batch_next_state, batch_reward = zip(*transitions)\n",
    "    \n",
    "        # convert to variables (necessary for batch training)\n",
    "        batch_state = Variable(torch.cat(batch_state))\n",
    "        batch_action = Variable(torch.from_numpy(np.array(batch_action)).view(self.BATCH_SIZE, -1))\n",
    "        batch_next_state = Variable(torch.cat(batch_next_state))\n",
    "        batch_reward = Variable(torch.cat(batch_reward))\n",
    "        # steps to be implemented:\n",
    "        # 1. compute current Q values for all actions\n",
    "        state_action_values = self(batch_state).gather(1, batch_action)\n",
    "        \n",
    "        # 2. compute exected Q values estimated from action which given max Q values (on-policy)\n",
    "        next_state_values = self(batch_next_state).max(1)[0]\n",
    "        expected_state_action_values = (next_state_values * self.gamma) + batch_reward\n",
    "\n",
    "        # 3. compute the loss/error function (one suggestion is F.smooth_l1_loss())\n",
    "        loss = F.smooth_l1_loss(state_action_values, expected_state_action_values)\n",
    "        \n",
    "        # 4. apply the error and backprop the gradients\n",
    "        optimizer.zero_grad()\n",
    "        loss.backward()\n",
    "        for param in DQ_agent.parameters():\n",
    "            param.grad.data.clamp_(-1, 1)\n",
    "        optimizer.step()\n",
    "\n",
    "        \n",
    "        #### YOUR CODE HERE\n",
    "        # this is where you will implement the Q-learning update rules on the a batch of\n",
    "        # sampled examples from the replay memory\n",
    "        # a couple of resources:\n",
    "        #  - check out Homework 2, particularly the RNN code for how to train a network using pytorch\n",
    "        #  - check out the nn.Module docs on the pytorch website: http://pytorch.org/docs/master/nn.html\n",
    "        #  - check out this pytorch doc on implementing a DQN: http://pytorch.org/tutorials/intermediate/reinforcement_q_learning.html\n",
    "        # it is ok if you want to modify any of the starter code to use a different\n",
    "        # format.  However your solution MUST involve a multi-layer neural network as\n",
    "        # the function approximation representation for the DQN.\n",
    "        pass"
   ]
  },
  {
   "cell_type": "code",
   "execution_count": 139,
   "metadata": {},
   "outputs": [
    {
     "data": {
      "text/plain": [
       "(17, 10, False)"
      ]
     },
     "execution_count": 139,
     "metadata": {},
     "output_type": "execute_result"
    }
   ],
   "source": [
    "env.reset()"
   ]
  },
  {
   "cell_type": "code",
   "execution_count": 140,
   "metadata": {},
   "outputs": [
    {
     "data": {
      "text/plain": [
       "[7, 10, 0, 0, 0, 0, 0, 0, 0, 0, 0, 0, 0, 0, 0, 10]"
      ]
     },
     "execution_count": 140,
     "metadata": {},
     "output_type": "execute_result"
    }
   ],
   "source": [
    "transfer_card_input(env.player, env.dealer)"
   ]
  },
  {
   "cell_type": "code",
   "execution_count": 141,
   "metadata": {},
   "outputs": [
    {
     "data": {
      "text/plain": [
       "1"
      ]
     },
     "execution_count": 141,
     "metadata": {},
     "output_type": "execute_result"
    }
   ],
   "source": [
    "DQ_agent.choose(transfer_card_input(env.player, env.dealer))"
   ]
  },
  {
   "cell_type": "code",
   "execution_count": 144,
   "metadata": {},
   "outputs": [],
   "source": [
    "from tqdm import tqdm"
   ]
  },
  {
   "cell_type": "code",
   "execution_count": 150,
   "metadata": {},
   "outputs": [
    {
     "name": "stderr",
     "output_type": "stream",
     "text": [
      "100%|██████████| 50/50 [03:33<00:00,  4.29s/it]\n",
      "  0%|          | 0/50 [00:00<?, ?it/s]"
     ]
    },
    {
     "name": "stdout",
     "output_type": "stream",
     "text": [
      "Average payout after 1000 rounds after training for 200 episodes is -515.02\n"
     ]
    },
    {
     "name": "stderr",
     "output_type": "stream",
     "text": [
      "100%|██████████| 50/50 [03:32<00:00,  4.32s/it]"
     ]
    },
    {
     "name": "stdout",
     "output_type": "stream",
     "text": [
      "Average payout after 1000 rounds after training for 400 episodes is -519.52\n"
     ]
    },
    {
     "name": "stderr",
     "output_type": "stream",
     "text": [
      "\n"
     ]
    },
    {
     "data": {
      "image/png": "[encoded data removed]",
      "text/plain": [
       "<matplotlib.figure.Figure at 0x1106708d0>"
      ]
     },
     "metadata": {},
     "output_type": "display_data"
    }
   ],
   "source": [
    "num_episodes_values = range(200, 600, 200)\n",
    "total_payout = 0 # to store total payout over 'num_rounds'\n",
    "average_payouts = [] # to store total payout over 'num_rounds' after 'num_sample' simulations\n",
    "env.reset() \n",
    "for num_episodes_value in num_episodes_values:\n",
    "    total_payout = 0 # to store total payout over 'num_rounds'\n",
    "    average_payouts = [] # to store total payout over 'num_rounds' after 'num_sample' simulations\n",
    "    DQ_agent = NetworkAgent(n_inputs=16, n_outputs=2, gamma=0.7)\n",
    "    optimizer = optim.RMSprop(DQ_agent.parameters(), lr = 0.0005)\n",
    "    observation = env.reset()\n",
    "    for sample in tqdm(range(num_samples)):\n",
    "        round = 1\n",
    "        # Take action based on Q-table of the agent and learn based on that until 'num_episodes_to_train' = 0\n",
    "        while round <= num_rounds:\n",
    "            state = transfer_card_input(env.player, env.dealer)\n",
    "            # observation = transfer_card_input(env.player, env.dealer) \n",
    "            action = DQ_agent.choose(state)\n",
    "            # action = agent.choose_action(observation)\n",
    "            next_observation, payout, is_done, _ = env.step(action)\n",
    "            next_state = transfer_card_input(env.player, env.dealer)\n",
    "            DQ_agent.remember(state, action, next_state, payout)\n",
    "            DQ_agent.learn()\n",
    "\n",
    "            total_payout += payout\n",
    "\n",
    "            if is_done:\n",
    "                env.reset() # Environment deals new cards to player and dealer\n",
    "                round += 1\n",
    "                average_payouts.append(total_payout/(sample*num_rounds + round))\n",
    "\n",
    "    plt.plot(average_payouts)\n",
    "    print (\"Average payout after {} rounds after training for {} episodes is {}\".format(num_rounds, num_episodes_value, total_payout/(num_samples)))\n",
    "\n",
    "\n",
    "# Plot payout per 1000 episodes for each value of 'num_episodes_to_train' in the same graph\n",
    "plt.xlabel('num_episodes')\n",
    "plt.ylabel('payout')\n",
    "plt.legend([\"{}\".format(i) for i in num_episodes_values], loc='upper left')\n",
    "plt.ylim(-0.5,0) # To zoom into this region\n",
    "plt.show()\n",
    "env.close()"
   ]
  },
  {
   "cell_type": "markdown",
   "metadata": {},
   "source": [
    "#### The payout given by basic reinforcement learning method (q_learning etc) with different betting strategy"
   ]
  },
  {
   "cell_type": "markdown",
   "metadata": {},
   "source": [
    "#### The payout given by combination of all good results"
   ]
  },
  {
   "cell_type": "markdown",
   "metadata": {},
   "source": [
    "### Comparison with human performance"
   ]
  },
  {
   "cell_type": "markdown",
   "metadata": {},
   "source": [
    "### Human tester 1 "
   ]
  },
  {
   "cell_type": "markdown",
   "metadata": {},
   "source": [
    "### Human tester2"
   ]
  },
  {
   "cell_type": "code",
   "execution_count": 7,
   "metadata": {},
   "outputs": [],
   "source": [
    "from gym import wrappers\n",
    "env = gym.make('Blackjack-v0')"
   ]
  },
  {
   "cell_type": "code",
   "execution_count": 39,
   "metadata": {},
   "outputs": [
    {
     "data": {
      "text/plain": [
       "((16, 7, False), -1.0, True, {})"
      ]
     },
     "execution_count": 39,
     "metadata": {},
     "output_type": "execute_result"
    }
   ],
   "source": [
    "env.step(action)"
   ]
  },
  {
   "cell_type": "code",
   "execution_count": 40,
   "metadata": {},
   "outputs": [],
   "source": [
    "next_observation, payout, is_done, _ = env.step(action)"
   ]
  },
  {
   "cell_type": "code",
   "execution_count": 46,
   "metadata": {},
   "outputs": [
    {
     "data": {
      "text/plain": [
       "True"
      ]
     },
     "execution_count": 46,
     "metadata": {},
     "output_type": "execute_result"
    }
   ],
   "source": [
    "is_done"
   ]
  },
  {
   "cell_type": "code",
   "execution_count": 41,
   "metadata": {},
   "outputs": [],
   "source": [
    "action = 0"
   ]
  },
  {
   "cell_type": "code",
   "execution_count": 42,
   "metadata": {},
   "outputs": [
    {
     "data": {
      "text/plain": [
       "(16, 7, False)"
      ]
     },
     "execution_count": 42,
     "metadata": {},
     "output_type": "execute_result"
    }
   ],
   "source": [
    "next_observation"
   ]
  },
  {
   "cell_type": "code",
   "execution_count": 43,
   "metadata": {},
   "outputs": [
    {
     "data": {
      "text/plain": [
       "-1.0"
      ]
     },
     "execution_count": 43,
     "metadata": {},
     "output_type": "execute_result"
    }
   ],
   "source": [
    "payout"
   ]
  },
  {
   "cell_type": "code",
   "execution_count": 55,
   "metadata": {},
   "outputs": [
    {
     "data": {
      "text/plain": [
       "[10, 1, 5]"
      ]
     },
     "execution_count": 55,
     "metadata": {},
     "output_type": "execute_result"
    }
   ],
   "source": [
    "env.player"
   ]
  },
  {
   "cell_type": "code",
   "execution_count": 54,
   "metadata": {},
   "outputs": [
    {
     "data": {
      "text/plain": [
       "[7, 7, 5]"
      ]
     },
     "execution_count": 54,
     "metadata": {},
     "output_type": "execute_result"
    }
   ],
   "source": [
    "env.dealer"
   ]
  },
  {
   "cell_type": "code",
   "execution_count": 60,
   "metadata": {},
   "outputs": [
    {
     "data": {
      "text/plain": [
       "[10, 1, 5, 0, 0, 0, 0, 0, 0, 0, 0, 0, 0, 0, 0, 7]"
      ]
     },
     "execution_count": 60,
     "metadata": {},
     "output_type": "execute_result"
    }
   ],
   "source": [
    "transfer_card_input(env.player, env.dealer)"
   ]
  },
  {
   "cell_type": "code",
   "execution_count": null,
   "metadata": {},
   "outputs": [],
   "source": []
  }
 ],
 "metadata": {
  "kernelspec": {
   "display_name": "Python 3",
   "language": "python",
   "name": "python3"
  },
  "language_info": {
   "codemirror_mode": {
    "name": "ipython",
    "version": 3
   },
   "file_extension": ".py",
   "mimetype": "text/x-python",
   "name": "python",
   "nbconvert_exporter": "python",
   "pygments_lexer": "ipython3",
   "version": "3.6.1"
  }
 },
 "nbformat": 4,
 "nbformat_minor": 2
}
